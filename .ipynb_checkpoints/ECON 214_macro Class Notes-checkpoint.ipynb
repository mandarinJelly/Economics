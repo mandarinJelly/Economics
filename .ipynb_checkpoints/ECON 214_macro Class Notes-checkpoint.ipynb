{
 "cells": [
  {
   "cell_type": "markdown",
   "metadata": {},
   "source": [
    "# ECON 214.3 (06): Intermediate Macroeconomics\n",
    "###### Andreas Pollak"
   ]
  },
  {
   "cell_type": "code",
   "execution_count": null,
   "metadata": {},
   "outputs": [],
   "source": []
  },
  {
   "cell_type": "markdown",
   "metadata": {},
   "source": [
    "### Lecture 3\n",
    "\n",
    "**National Income Identity**\n",
    "\n",
    "#### Gross Domestic Product by Expenditure\n",
    "\n",
    "$Y=C+I+G+(Ex-Im)$\n",
    "\n",
    "* Y = GDP\n",
    "* C = Consumer Expenditure\n",
    "* G = Government Expenditure\n",
    "* (Ex-Im) = Net Exports | Ex = Exports, Im = Imports\n",
    "\n",
    "*not a theory, it's just an accounting identity\n",
    "\n",
    "![ExpComp](./figures/ExpComp.png)\n",
    "\n",
    "**GDP Deflator**\n",
    "\n",
    "$GDP_n/GDP_r=:GDP_{deflator}$\n",
    "* changes with the average prices of the goods making up GDP | the growth rate from the GDP deflator could be a possible measure of inflation\n",
    "\n",
    "$GDP_n$ (nominal GDP)\n",
    "* grows with quantity and quality of output | grows with increases in prices\n",
    "\n",
    "$GDP_r$ (real GDP)\n",
    "* grows with the quantity and quality of output only\n",
    "\n",
    "![GDPdeflator](./figures/GDPdef.png)\n",
    "\n",
    "#### Gross Domestic Product by Income\n",
    "\n",
    "**[GDP - (net foreign income)] - (capital depreciation) - indirect business taxes-subsidies = net national income at factor prices**\n",
    "* GNP = GDP - (net foreign income)\n",
    "* Net National Income @ Market Prices = GNP - (capital depreciation)\n",
    "* Net National Income @ factor prices = (net national income at market prices) - (indirect business (taxes-subsidies))\n",
    "    * labour income (LI)\n",
    "    * profits | Capital Income (CI)\n",
    "    * interest | CI\n",
    "    * unincorporated business income (mixture of LI and CI)\n",
    "\n"
   ]
  },
  {
   "cell_type": "markdown",
   "metadata": {},
   "source": [
    "### Prices and Inflation\n",
    "\n",
    "**Consumer Price Index (CPI)** \n",
    "* measures the cost of a \"basket\" of typical consumption goods | focuses on C (Consumer Expenditure)\n",
    "* calculated monthly\n",
    "* main source of inflation information that we use | BoC tries to keeps CPI @ 2% growth\n",
    "* tends to be overstated due to:\n",
    "    * substitution of goods\n",
    "    * improvement of tech\n",
    "    * \n",
    "\n",
    "[CPI video](https://www.youtube.com/watch?v=qfKmJe3CK6E)\n",
    "\n",
    "CPI | GDP Deflator\n",
    "--- | ---\n",
    "Consumption goods only: basket | all goods in production weights: output \n",
    "includes imported goods | only domestic production\n",
    "**Laspeyres index** | **Paasche index**\n",
    "\n",
    "_Laspeyres Index_ - index based on fixed weights\n",
    "* it doesn't allow for substitution of goods\n",
    "\n",
    "_Paasche Index_ - index based on variable weights\n",
    "\n",
    "![GDPoverCPI](./figures/GDP_CPI.png)\n",
    "\n",
    "### Employment & Unemployment\n",
    "\n",
    "**Classification:** Adult population (not in labour _(retired, institutionalized)_ OR in labour (employed OR unemployed)\n",
    "\n",
    "**Participation Rate = Labour Force/Adult Population**\n",
    "\n",
    "**Unemployment Rate = Unemployed / Labour Force**"
   ]
  },
  {
   "cell_type": "code",
   "execution_count": null,
   "metadata": {},
   "outputs": [],
   "source": []
  }
 ],
 "metadata": {
  "kernelspec": {
   "display_name": "Python 3",
   "language": "python",
   "name": "python3"
  },
  "language_info": {
   "codemirror_mode": {
    "name": "ipython",
    "version": 3
   },
   "file_extension": ".py",
   "mimetype": "text/x-python",
   "name": "python",
   "nbconvert_exporter": "python",
   "pygments_lexer": "ipython3",
   "version": "3.7.6"
  }
 },
 "nbformat": 4,
 "nbformat_minor": 4
}
