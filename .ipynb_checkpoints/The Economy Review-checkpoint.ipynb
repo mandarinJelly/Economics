{
 "cells": [
  {
   "cell_type": "markdown",
   "metadata": {},
   "source": [
    "# [The Economy](https://www.core-econ.org/the-economy/index.html)"
   ]
  },
  {
   "cell_type": "markdown",
   "metadata": {},
   "source": [
    "## Unit 1: The Capitalist Revolution\n",
    "\n",
    "### Income Inequality\n",
    "\n",
    "$\\frac{90}{10}=\\frac{Income_{10th}}{Income_{90th}}$\n",
    "* 90/10 ratio is used to measure the income inequality between the poorest 10% to the richest 10%\n",
    "\n",
    "#### Exercises\n",
    "Choose 5 countries from the [DATA](https://jackblun.github.io/Globalinc/html/fig_1980.html):\n",
    "\n",
    "1. Calculate the 90/10 ratio in 1980, 1990 and 2014 for each one\n",
    "\n",
    "Year | Russian Federation | Canada | Philippines | China | Brazil\n",
    "--- | --- | --- | --- | --- | ---\n",
    "1980 | 4.89 | 8.99 | 26.22 | 6.58 | 49.50\n",
    "1990 | 8.70 | 7.93 | 23.47 | 23.29 | 67.07\n",
    "2014 | 9.44 | 9.24 | 31.91 | 41.72 | 28.75\n",
    "\n",
    "2. Describe the differences between countries and the changes over time\n",
    "\n",
    "**Russian Federation:** \n",
    "\n",
    "**Canada:**\n",
    "\n",
    "**Philippines:**\n",
    "\n",
    "**China:**\n",
    "\n",
    "**Brazil:**\n",
    "\n",
    "3. Try to explain why\n",
    "\n",
    "### Measuring Income and Living Standards\n",
    "\n",
    "**GDP per Capita = Total goods & services produced in a country/Country's Population**\n",
    "\n",
    "**Disposable Income:** the amount received (wages, salaries, benefits, gift) minus amount paid (taxes, expenses, etc.)\n",
    "\n",
    "**Average Disposable Income:** $\\frac{\\sum_{i}^{j} I}{n}$\n",
    "\n"
   ]
  },
  {
   "cell_type": "code",
   "execution_count": null,
   "metadata": {},
   "outputs": [],
   "source": []
  }
 ],
 "metadata": {
  "kernelspec": {
   "display_name": "Python 3",
   "language": "python",
   "name": "python3"
  },
  "language_info": {
   "codemirror_mode": {
    "name": "ipython",
    "version": 3
   },
   "file_extension": ".py",
   "mimetype": "text/x-python",
   "name": "python",
   "nbconvert_exporter": "python",
   "pygments_lexer": "ipython3",
   "version": "3.7.6"
  }
 },
 "nbformat": 4,
 "nbformat_minor": 4
}
